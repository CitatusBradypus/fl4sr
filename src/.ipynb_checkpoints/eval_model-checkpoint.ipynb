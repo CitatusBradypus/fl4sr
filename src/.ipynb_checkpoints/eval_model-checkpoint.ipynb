{
 "cells": [
  {
   "cell_type": "code",
   "execution_count": 1,
   "id": "380f8668",
   "metadata": {},
   "outputs": [],
   "source": [
    "import os"
   ]
  },
  {
   "cell_type": "code",
   "execution_count": 2,
   "id": "9effdd01",
   "metadata": {},
   "outputs": [
    {
     "name": "stdout",
     "output_type": "stream",
     "text": [
      "['TWOOBS', 'ONEOBS', '.ipynb_checkpoints', 'NOOBS']\n"
     ]
    }
   ],
   "source": [
    "list_dir = os.listdir('eval_model')\n",
    "cur_path = os.path.join(os.getcwd(), 'eval_model')\n",
    "print(list_dir)\n"
   ]
  },
  {
   "cell_type": "code",
   "execution_count": 3,
   "id": "0b27670e",
   "metadata": {},
   "outputs": [
    {
     "name": "stdout",
     "output_type": "stream",
     "text": [
      "['TWOOBS', 'ONEOBS', 'NOOBS']\n"
     ]
    }
   ],
   "source": [
    "list_dir_results = [d for d in list_dir if not 'ipynb' in d]\n",
    "print(list_dir_results)"
   ]
  },
  {
   "cell_type": "code",
   "execution_count": 4,
   "id": "be808591",
   "metadata": {},
   "outputs": [
    {
     "name": "stdout",
     "output_type": "stream",
     "text": [
      "['exp_no_limit_r4', 'exp_diff_reward_limit_uP5', 'exp_diff_reward_limit_uP1']\n",
      "critic: TWOOBS-exp_no_limit_r4-SNDDPG-/home/swacil/noetic_ws/src/fl4sr/src/eval_model/TWOOBS/exp_no_limit_r4/critic-final-0.pkl\n",
      "actor: TWOOBS-exp_no_limit_r4-SNDDPG-/home/swacil/noetic_ws/src/fl4sr/src/eval_model/TWOOBS/exp_no_limit_r4/actor-final-0.pkl\n",
      "critic: TWOOBS-exp_no_limit_r4-IDDPG-/home/swacil/noetic_ws/src/fl4sr/src/eval_model/TWOOBS/exp_no_limit_r4/critic-final-3.pkl\n",
      "actor: TWOOBS-exp_no_limit_r4-IDDPG-/home/swacil/noetic_ws/src/fl4sr/src/eval_model/TWOOBS/exp_no_limit_r4/actor-final-3.pkl\n",
      "critic: TWOOBS-exp_no_limit_r4-FLDDPG-/home/swacil/noetic_ws/src/fl4sr/src/eval_model/TWOOBS/exp_no_limit_r4/critic-final-3.pkl\n",
      "actor: TWOOBS-exp_no_limit_r4-FLDDPG-/home/swacil/noetic_ws/src/fl4sr/src/eval_model/TWOOBS/exp_no_limit_r4/actor-final-3.pkl\n",
      "critic: TWOOBS-exp_no_limit_r4-SEDDPG-/home/swacil/noetic_ws/src/fl4sr/src/eval_model/TWOOBS/exp_no_limit_r4/critic-final-3.pkl\n",
      "actor: TWOOBS-exp_no_limit_r4-SEDDPG-/home/swacil/noetic_ws/src/fl4sr/src/eval_model/TWOOBS/exp_no_limit_r4/actor-final-3.pkl\n",
      "critic: TWOOBS-exp_diff_reward_limit_uP5-SNDDPG-/home/swacil/noetic_ws/src/fl4sr/src/eval_model/TWOOBS/exp_diff_reward_limit_uP5/critic-final-3.pkl\n",
      "actor: TWOOBS-exp_diff_reward_limit_uP5-SNDDPG-/home/swacil/noetic_ws/src/fl4sr/src/eval_model/TWOOBS/exp_diff_reward_limit_uP5/actor-final-3.pkl\n",
      "critic: TWOOBS-exp_diff_reward_limit_uP5-IDDPG-/home/swacil/noetic_ws/src/fl4sr/src/eval_model/TWOOBS/exp_diff_reward_limit_uP5/critic-final-3.pkl\n",
      "actor: TWOOBS-exp_diff_reward_limit_uP5-IDDPG-/home/swacil/noetic_ws/src/fl4sr/src/eval_model/TWOOBS/exp_diff_reward_limit_uP5/actor-final-3.pkl\n",
      "critic: TWOOBS-exp_diff_reward_limit_uP5-FLDDPG-/home/swacil/noetic_ws/src/fl4sr/src/eval_model/TWOOBS/exp_diff_reward_limit_uP5/critic-final-3.pkl\n",
      "actor: TWOOBS-exp_diff_reward_limit_uP5-FLDDPG-/home/swacil/noetic_ws/src/fl4sr/src/eval_model/TWOOBS/exp_diff_reward_limit_uP5/actor-final-3.pkl\n",
      "critic: TWOOBS-exp_diff_reward_limit_uP5-SEDDPG-/home/swacil/noetic_ws/src/fl4sr/src/eval_model/TWOOBS/exp_diff_reward_limit_uP5/critic-final-3.pkl\n",
      "actor: TWOOBS-exp_diff_reward_limit_uP5-SEDDPG-/home/swacil/noetic_ws/src/fl4sr/src/eval_model/TWOOBS/exp_diff_reward_limit_uP5/actor-final-3.pkl\n",
      "critic: TWOOBS-exp_diff_reward_limit_uP1-SNDDPG-/home/swacil/noetic_ws/src/fl4sr/src/eval_model/TWOOBS/exp_diff_reward_limit_uP1/critic-final-3.pkl\n",
      "actor: TWOOBS-exp_diff_reward_limit_uP1-SNDDPG-/home/swacil/noetic_ws/src/fl4sr/src/eval_model/TWOOBS/exp_diff_reward_limit_uP1/actor-final-3.pkl\n",
      "critic: TWOOBS-exp_diff_reward_limit_uP1-IDDPG-/home/swacil/noetic_ws/src/fl4sr/src/eval_model/TWOOBS/exp_diff_reward_limit_uP1/critic-final-3.pkl\n",
      "actor: TWOOBS-exp_diff_reward_limit_uP1-IDDPG-/home/swacil/noetic_ws/src/fl4sr/src/eval_model/TWOOBS/exp_diff_reward_limit_uP1/actor-final-3.pkl\n",
      "critic: TWOOBS-exp_diff_reward_limit_uP1-FLDDPG-/home/swacil/noetic_ws/src/fl4sr/src/eval_model/TWOOBS/exp_diff_reward_limit_uP1/critic-final-3.pkl\n",
      "actor: TWOOBS-exp_diff_reward_limit_uP1-FLDDPG-/home/swacil/noetic_ws/src/fl4sr/src/eval_model/TWOOBS/exp_diff_reward_limit_uP1/actor-final-3.pkl\n",
      "critic: TWOOBS-exp_diff_reward_limit_uP1-SEDDPG-/home/swacil/noetic_ws/src/fl4sr/src/eval_model/TWOOBS/exp_diff_reward_limit_uP1/critic-final-3.pkl\n",
      "actor: TWOOBS-exp_diff_reward_limit_uP1-SEDDPG-/home/swacil/noetic_ws/src/fl4sr/src/eval_model/TWOOBS/exp_diff_reward_limit_uP1/actor-final-3.pkl\n",
      "['exp_no_limit_r4', 'exp_diff_reward_limit_uP5', 'exp_diff_reward_limit_uP1']\n",
      "critic: ONEOBS-exp_no_limit_r4-SNDDPG-/home/swacil/noetic_ws/src/fl4sr/src/eval_model/ONEOBS/exp_no_limit_r4/critic-final-0.pkl\n",
      "actor: ONEOBS-exp_no_limit_r4-SNDDPG-/home/swacil/noetic_ws/src/fl4sr/src/eval_model/ONEOBS/exp_no_limit_r4/actor-final-0.pkl\n",
      "critic: ONEOBS-exp_no_limit_r4-IDDPG-/home/swacil/noetic_ws/src/fl4sr/src/eval_model/ONEOBS/exp_no_limit_r4/critic-final-1.pkl\n",
      "actor: ONEOBS-exp_no_limit_r4-IDDPG-/home/swacil/noetic_ws/src/fl4sr/src/eval_model/ONEOBS/exp_no_limit_r4/actor-final-1.pkl\n",
      "critic: ONEOBS-exp_no_limit_r4-FLDDPG-/home/swacil/noetic_ws/src/fl4sr/src/eval_model/ONEOBS/exp_no_limit_r4/critic-final-1.pkl\n",
      "actor: ONEOBS-exp_no_limit_r4-FLDDPG-/home/swacil/noetic_ws/src/fl4sr/src/eval_model/ONEOBS/exp_no_limit_r4/actor-final-1.pkl\n",
      "critic: ONEOBS-exp_no_limit_r4-SEDDPG-/home/swacil/noetic_ws/src/fl4sr/src/eval_model/ONEOBS/exp_no_limit_r4/critic-final-1.pkl\n",
      "actor: ONEOBS-exp_no_limit_r4-SEDDPG-/home/swacil/noetic_ws/src/fl4sr/src/eval_model/ONEOBS/exp_no_limit_r4/actor-final-1.pkl\n",
      "critic: ONEOBS-exp_diff_reward_limit_uP5-SNDDPG-/home/swacil/noetic_ws/src/fl4sr/src/eval_model/ONEOBS/exp_diff_reward_limit_uP5/critic-final-1.pkl\n",
      "actor: ONEOBS-exp_diff_reward_limit_uP5-SNDDPG-/home/swacil/noetic_ws/src/fl4sr/src/eval_model/ONEOBS/exp_diff_reward_limit_uP5/actor-final-1.pkl\n",
      "critic: ONEOBS-exp_diff_reward_limit_uP5-IDDPG-/home/swacil/noetic_ws/src/fl4sr/src/eval_model/ONEOBS/exp_diff_reward_limit_uP5/critic-final-1.pkl\n",
      "actor: ONEOBS-exp_diff_reward_limit_uP5-IDDPG-/home/swacil/noetic_ws/src/fl4sr/src/eval_model/ONEOBS/exp_diff_reward_limit_uP5/actor-final-1.pkl\n",
      "critic: ONEOBS-exp_diff_reward_limit_uP5-FLDDPG-/home/swacil/noetic_ws/src/fl4sr/src/eval_model/ONEOBS/exp_diff_reward_limit_uP5/critic-final-1.pkl\n",
      "actor: ONEOBS-exp_diff_reward_limit_uP5-FLDDPG-/home/swacil/noetic_ws/src/fl4sr/src/eval_model/ONEOBS/exp_diff_reward_limit_uP5/actor-final-1.pkl\n",
      "critic: ONEOBS-exp_diff_reward_limit_uP5-SEDDPG-/home/swacil/noetic_ws/src/fl4sr/src/eval_model/ONEOBS/exp_diff_reward_limit_uP5/critic-final-1.pkl\n",
      "actor: ONEOBS-exp_diff_reward_limit_uP5-SEDDPG-/home/swacil/noetic_ws/src/fl4sr/src/eval_model/ONEOBS/exp_diff_reward_limit_uP5/actor-final-1.pkl\n",
      "critic: ONEOBS-exp_diff_reward_limit_uP1-SNDDPG-/home/swacil/noetic_ws/src/fl4sr/src/eval_model/ONEOBS/exp_diff_reward_limit_uP1/critic-final-1.pkl\n",
      "actor: ONEOBS-exp_diff_reward_limit_uP1-SNDDPG-/home/swacil/noetic_ws/src/fl4sr/src/eval_model/ONEOBS/exp_diff_reward_limit_uP1/actor-final-1.pkl\n",
      "critic: ONEOBS-exp_diff_reward_limit_uP1-IDDPG-/home/swacil/noetic_ws/src/fl4sr/src/eval_model/ONEOBS/exp_diff_reward_limit_uP1/critic-final-1.pkl\n",
      "actor: ONEOBS-exp_diff_reward_limit_uP1-IDDPG-/home/swacil/noetic_ws/src/fl4sr/src/eval_model/ONEOBS/exp_diff_reward_limit_uP1/actor-final-1.pkl\n",
      "critic: ONEOBS-exp_diff_reward_limit_uP1-FLDDPG-/home/swacil/noetic_ws/src/fl4sr/src/eval_model/ONEOBS/exp_diff_reward_limit_uP1/critic-final-1.pkl\n",
      "actor: ONEOBS-exp_diff_reward_limit_uP1-FLDDPG-/home/swacil/noetic_ws/src/fl4sr/src/eval_model/ONEOBS/exp_diff_reward_limit_uP1/actor-final-1.pkl\n",
      "critic: ONEOBS-exp_diff_reward_limit_uP1-SEDDPG-/home/swacil/noetic_ws/src/fl4sr/src/eval_model/ONEOBS/exp_diff_reward_limit_uP1/critic-final-1.pkl\n",
      "actor: ONEOBS-exp_diff_reward_limit_uP1-SEDDPG-/home/swacil/noetic_ws/src/fl4sr/src/eval_model/ONEOBS/exp_diff_reward_limit_uP1/actor-final-1.pkl\n",
      "['exp_no_limit_r4', 'exp_diff_reward_limit_uP5', 'exp_diff_reward_limit_uP1']\n",
      "critic: NOOBS-exp_no_limit_r4-SNDDPG-/home/swacil/noetic_ws/src/fl4sr/src/eval_model/NOOBS/exp_no_limit_r4/critic-final-0.pkl\n",
      "actor: NOOBS-exp_no_limit_r4-SNDDPG-/home/swacil/noetic_ws/src/fl4sr/src/eval_model/NOOBS/exp_no_limit_r4/actor-final-0.pkl\n",
      "critic: NOOBS-exp_no_limit_r4-IDDPG-/home/swacil/noetic_ws/src/fl4sr/src/eval_model/NOOBS/exp_no_limit_r4/critic-final-0.pkl\n",
      "actor: NOOBS-exp_no_limit_r4-IDDPG-/home/swacil/noetic_ws/src/fl4sr/src/eval_model/NOOBS/exp_no_limit_r4/actor-final-0.pkl\n",
      "critic: NOOBS-exp_no_limit_r4-FLDDPG-/home/swacil/noetic_ws/src/fl4sr/src/eval_model/NOOBS/exp_no_limit_r4/critic-final-0.pkl\n",
      "actor: NOOBS-exp_no_limit_r4-FLDDPG-/home/swacil/noetic_ws/src/fl4sr/src/eval_model/NOOBS/exp_no_limit_r4/actor-final-0.pkl\n",
      "critic: NOOBS-exp_no_limit_r4-SEDDPG-/home/swacil/noetic_ws/src/fl4sr/src/eval_model/NOOBS/exp_no_limit_r4/critic-final-0.pkl\n",
      "actor: NOOBS-exp_no_limit_r4-SEDDPG-/home/swacil/noetic_ws/src/fl4sr/src/eval_model/NOOBS/exp_no_limit_r4/actor-final-0.pkl\n",
      "critic: NOOBS-exp_diff_reward_limit_uP5-SNDDPG-/home/swacil/noetic_ws/src/fl4sr/src/eval_model/NOOBS/exp_diff_reward_limit_uP5/critic-final-0.pkl\n",
      "actor: NOOBS-exp_diff_reward_limit_uP5-SNDDPG-/home/swacil/noetic_ws/src/fl4sr/src/eval_model/NOOBS/exp_diff_reward_limit_uP5/actor-final-0.pkl\n",
      "critic: NOOBS-exp_diff_reward_limit_uP5-IDDPG-/home/swacil/noetic_ws/src/fl4sr/src/eval_model/NOOBS/exp_diff_reward_limit_uP5/critic-final-0.pkl\n",
      "actor: NOOBS-exp_diff_reward_limit_uP5-IDDPG-/home/swacil/noetic_ws/src/fl4sr/src/eval_model/NOOBS/exp_diff_reward_limit_uP5/actor-final-0.pkl\n",
      "critic: NOOBS-exp_diff_reward_limit_uP5-FLDDPG-/home/swacil/noetic_ws/src/fl4sr/src/eval_model/NOOBS/exp_diff_reward_limit_uP5/critic-final-0.pkl\n",
      "actor: NOOBS-exp_diff_reward_limit_uP5-FLDDPG-/home/swacil/noetic_ws/src/fl4sr/src/eval_model/NOOBS/exp_diff_reward_limit_uP5/actor-final-0.pkl\n",
      "critic: NOOBS-exp_diff_reward_limit_uP5-SEDDPG-/home/swacil/noetic_ws/src/fl4sr/src/eval_model/NOOBS/exp_diff_reward_limit_uP5/critic-final-0.pkl\n",
      "actor: NOOBS-exp_diff_reward_limit_uP5-SEDDPG-/home/swacil/noetic_ws/src/fl4sr/src/eval_model/NOOBS/exp_diff_reward_limit_uP5/actor-final-0.pkl\n",
      "critic: NOOBS-exp_diff_reward_limit_uP1-SNDDPG-/home/swacil/noetic_ws/src/fl4sr/src/eval_model/NOOBS/exp_diff_reward_limit_uP1/critic-final-0.pkl\n",
      "actor: NOOBS-exp_diff_reward_limit_uP1-SNDDPG-/home/swacil/noetic_ws/src/fl4sr/src/eval_model/NOOBS/exp_diff_reward_limit_uP1/actor-final-0.pkl\n",
      "critic: NOOBS-exp_diff_reward_limit_uP1-IDDPG-/home/swacil/noetic_ws/src/fl4sr/src/eval_model/NOOBS/exp_diff_reward_limit_uP1/critic-final-0.pkl\n",
      "actor: NOOBS-exp_diff_reward_limit_uP1-IDDPG-/home/swacil/noetic_ws/src/fl4sr/src/eval_model/NOOBS/exp_diff_reward_limit_uP1/actor-final-0.pkl\n",
      "critic: NOOBS-exp_diff_reward_limit_uP1-FLDDPG-/home/swacil/noetic_ws/src/fl4sr/src/eval_model/NOOBS/exp_diff_reward_limit_uP1/critic-final-0.pkl\n",
      "actor: NOOBS-exp_diff_reward_limit_uP1-FLDDPG-/home/swacil/noetic_ws/src/fl4sr/src/eval_model/NOOBS/exp_diff_reward_limit_uP1/actor-final-0.pkl\n",
      "critic: NOOBS-exp_diff_reward_limit_uP1-SEDDPG-/home/swacil/noetic_ws/src/fl4sr/src/eval_model/NOOBS/exp_diff_reward_limit_uP1/critic-final-0.pkl\n",
      "actor: NOOBS-exp_diff_reward_limit_uP1-SEDDPG-/home/swacil/noetic_ws/src/fl4sr/src/eval_model/NOOBS/exp_diff_reward_limit_uP1/actor-final-0.pkl\n"
     ]
    }
   ],
   "source": [
    "for dir_result in list_dir_results:\n",
    "    path_dir_setting = os.path.join(cur_path, dir_result)\n",
    "    list_dir_setting = os.listdir(path_dir_setting)\n",
    "    print(list_dir_setting)\n",
    "    for setting in list_dir_setting:\n",
    "        path_algo = os.path.join(path_dir_setting, setting)\n",
    "        list_algo = os.listdir(path_algo)\n",
    "        for algo in list_algo:\n",
    "            path_model = os.path.join(path_algo, algo)\n",
    "            list_model = os.listdir(path_model)\n",
    "            name_critic = [critic for critic in list_model if 'critic' in critic][0]\n",
    "            name_actor = [actor for actor in list_model if 'actor' in actor][0]\n",
    "            path_critic = os.path.join(path_algo, name_critic)\n",
    "            path_actor = os.path.join(path_algo, name_actor)\n",
    "            print(f\"critic: {dir_result}-{setting}-{algo}-{path_critic}\")\n",
    "            print(f\"actor: {dir_result}-{setting}-{algo}-{path_actor}\")"
   ]
  },
  {
   "cell_type": "code",
   "execution_count": null,
   "id": "0592ab86",
   "metadata": {},
   "outputs": [],
   "source": []
  }
 ],
 "metadata": {
  "kernelspec": {
   "display_name": "Python 3 (ipykernel)",
   "language": "python",
   "name": "python3"
  },
  "language_info": {
   "codemirror_mode": {
    "name": "ipython",
    "version": 3
   },
   "file_extension": ".py",
   "mimetype": "text/x-python",
   "name": "python",
   "nbconvert_exporter": "python",
   "pygments_lexer": "ipython3",
   "version": "3.8.10"
  }
 },
 "nbformat": 4,
 "nbformat_minor": 5
}
